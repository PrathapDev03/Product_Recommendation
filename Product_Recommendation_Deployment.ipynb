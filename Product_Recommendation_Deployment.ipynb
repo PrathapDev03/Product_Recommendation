{
  "cells": [
    {
      "cell_type": "code",
      "source": [
        "#!pip install streamlit"
      ],
      "metadata": {
        "id": "fPzng1sp6wtA"
      },
      "id": "fPzng1sp6wtA",
      "execution_count": 13,
      "outputs": []
    },
    {
      "cell_type": "code",
      "execution_count": 14,
      "id": "47344dfc-64db-4130-92f8-53d929a8bfc6",
      "metadata": {
        "id": "47344dfc-64db-4130-92f8-53d929a8bfc6"
      },
      "outputs": [],
      "source": [
        "import pandas as pd\n",
        "import streamlit as st\n",
        "import pickle\n",
        "import warnings\n",
        "warnings.filterwarnings('ignore')"
      ]
    },
    {
      "cell_type": "markdown",
      "source": [],
      "metadata": {
        "id": "JVea7atotJgH"
      },
      "id": "JVea7atotJgH"
    },
    {
      "cell_type": "code",
      "execution_count": 15,
      "id": "1d90ea07-2183-4f2b-9b3b-1d0df980a88a",
      "metadata": {
        "id": "1d90ea07-2183-4f2b-9b3b-1d0df980a88a"
      },
      "outputs": [],
      "source": [
        "model = pickle.load(open('/content/sample_data/Product_Recommendation.pkl','rb'))\n",
        "model"
      ]
    },
    {
      "cell_type": "code",
      "execution_count": 16,
      "id": "11cabdde-086d-4bcf-a94b-3a97d6e787a4",
      "metadata": {
        "id": "11cabdde-086d-4bcf-a94b-3a97d6e787a4",
        "colab": {
          "base_uri": "https://localhost:8080/"
        },
        "outputId": "4e7be842-6bd0-4295-fedc-6b0bcd96319f"
      },
      "outputs": [
        {
          "output_type": "stream",
          "name": "stderr",
          "text": [
            "2025-04-08 06:12:45.456 Thread 'MainThread': missing ScriptRunContext! This warning can be ignored when running in bare mode.\n",
            "2025-04-08 06:12:45.457 Thread 'MainThread': missing ScriptRunContext! This warning can be ignored when running in bare mode.\n",
            "2025-04-08 06:12:46.644 Thread 'MainThread': missing ScriptRunContext! This warning can be ignored when running in bare mode.\n",
            "2025-04-08 06:12:46.656 Thread 'MainThread': missing ScriptRunContext! This warning can be ignored when running in bare mode.\n",
            "2025-04-08 06:12:50.671 Thread 'MainThread': missing ScriptRunContext! This warning can be ignored when running in bare mode.\n",
            "2025-04-08 06:12:50.671 Thread 'MainThread': missing ScriptRunContext! This warning can be ignored when running in bare mode.\n",
            "2025-04-08 06:12:50.737 Thread 'MainThread': missing ScriptRunContext! This warning can be ignored when running in bare mode.\n",
            "2025-04-08 06:12:50.882 Thread 'MainThread': missing ScriptRunContext! This warning can be ignored when running in bare mode.\n",
            "2025-04-08 06:12:50.883 Thread 'MainThread': missing ScriptRunContext! This warning can be ignored when running in bare mode.\n",
            "2025-04-08 06:12:50.885 Thread 'MainThread': missing ScriptRunContext! This warning can be ignored when running in bare mode.\n",
            "2025-04-08 06:12:50.885 Thread 'MainThread': missing ScriptRunContext! This warning can be ignored when running in bare mode.\n",
            "2025-04-08 06:12:51.026 Thread 'MainThread': missing ScriptRunContext! This warning can be ignored when running in bare mode.\n",
            "2025-04-08 06:12:51.027 Thread 'MainThread': missing ScriptRunContext! This warning can be ignored when running in bare mode.\n",
            "2025-04-08 06:12:51.031 Thread 'MainThread': missing ScriptRunContext! This warning can be ignored when running in bare mode.\n",
            "2025-04-08 06:12:51.033 Thread 'MainThread': missing ScriptRunContext! This warning can be ignored when running in bare mode.\n",
            "2025-04-08 06:12:51.035 Thread 'MainThread': missing ScriptRunContext! This warning can be ignored when running in bare mode.\n",
            "2025-04-08 06:12:51.036 Thread 'MainThread': missing ScriptRunContext! This warning can be ignored when running in bare mode.\n",
            "2025-04-08 06:12:51.037 Thread 'MainThread': missing ScriptRunContext! This warning can be ignored when running in bare mode.\n",
            "2025-04-08 06:12:51.038 Thread 'MainThread': missing ScriptRunContext! This warning can be ignored when running in bare mode.\n",
            "2025-04-08 06:12:51.038 Thread 'MainThread': missing ScriptRunContext! This warning can be ignored when running in bare mode.\n",
            "2025-04-08 06:12:51.040 Thread 'MainThread': missing ScriptRunContext! This warning can be ignored when running in bare mode.\n",
            "2025-04-08 06:12:51.046 Thread 'MainThread': missing ScriptRunContext! This warning can be ignored when running in bare mode.\n",
            "2025-04-08 06:12:51.047 Thread 'MainThread': missing ScriptRunContext! This warning can be ignored when running in bare mode.\n"
          ]
        }
      ],
      "source": [
        "import streamlit as st\n",
        "import pandas as pd\n",
        "import numpy as np\n",
        "from sklearn.preprocessing import StandardScaler\n",
        "from sklearn.metrics.pairwise import cosine_similarity\n",
        "from sklearn.cluster import KMeans, AgglomerativeClustering, DBSCAN\n",
        "from sklearn.decomposition import PCA\n",
        "import matplotlib.pyplot as plt\n",
        "import seaborn as sns\n",
        "from scipy.sparse import csr_matrix\n",
        "import pickle\n",
        "\n",
        "\n",
        "st.title(\"🛒 Product Recommendation & Clustering System\")\n",
        "\n",
        "# Automatic file loading\n",
        "uploaded_file = \"/content/sample_data/ratings.csv\"\n",
        "\n",
        "try:\n",
        "    df = pd.read_csv(uploaded_file)\n",
        "    st.write(df)\n",
        "except FileNotFoundError:\n",
        "    st.error(f\"File not found at: {uploaded_file}\")\n",
        "\n",
        "if uploaded_file:\n",
        "    data = pd.read_csv(uploaded_file, names=['user_id', 'product_id', 'rating', 'timestamp'])\n",
        "\n",
        "    # Drop timestamp\n",
        "    data = data.drop('timestamp', axis=1)\n",
        "    data[\"Num_Ratings_By_User\"] = data.groupby(\"user_id\")[\"rating\"].transform(\"count\")\n",
        "    data[\"Num_Ratings_By_Item\"] = data.groupby(\"product_id\")[\"rating\"].transform(\"count\")\n",
        "\n",
        "    # Filter data\n",
        "    filtered_data = data[(data['Num_Ratings_By_User'] >= 30) & (data['Num_Ratings_By_Item'] >= 30)]\n",
        "    matrix = filtered_data.pivot(index='user_id', columns='product_id', values='rating').fillna(0)\n",
        "\n",
        "    # Sparse matrix\n",
        "    sparse_matrix = csr_matrix(matrix.values)\n",
        "\n",
        "\n",
        "\n",
        "    st.subheader(\"🔥 Top 10 Rated Products\")\n",
        "    top_products = filtered_data['product_id'].value_counts().head(10)\n",
        "    fig2, ax2 = plt.subplots()\n",
        "    sns.barplot(x=top_products.index, y=top_products.values, ax=ax2)\n",
        "    ax2.set_xticklabels(ax2.get_xticklabels(), rotation=90)\n",
        "    st.pyplot(fig2)\n",
        "\n",
        "    st.subheader(\"🔍 Explore Product Similarity\")\n",
        "    cosine_sim = cosine_similarity(matrix.T)\n",
        "    cosine_df = pd.DataFrame(cosine_sim, index=matrix.columns, columns=matrix.columns)\n",
        "\n",
        "    selected_product = st.selectbox(\"Select a Product ID to see similar products\", matrix.columns)\n",
        "    if selected_product:\n",
        "        st.write(\"Top 5 similar products:\")\n",
        "        st.dataframe(cosine_df[selected_product].sort_values(ascending=False)[1:6])\n"
      ]
    }
  ],
  "metadata": {
    "kernelspec": {
      "display_name": "Python 3 (ipykernel)",
      "language": "python",
      "name": "python3"
    },
    "language_info": {
      "codemirror_mode": {
        "name": "ipython",
        "version": 3
      },
      "file_extension": ".py",
      "mimetype": "text/x-python",
      "name": "python",
      "nbconvert_exporter": "python",
      "pygments_lexer": "ipython3",
      "version": "3.12.7"
    },
    "colab": {
      "provenance": []
    }
  },
  "nbformat": 4,
  "nbformat_minor": 5
}